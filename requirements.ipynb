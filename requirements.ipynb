{
 "cells": [
  {
   "cell_type": "code",
   "execution_count": null,
   "id": "f7431ddf-250f-440d-9a49-4b3c7033c20b",
   "metadata": {},
   "outputs": [],
   "source": [
    "pandas>=1.3.0\n",
    "numpy>=1.21.0\n",
    "matplotlib>=3.4.0\n",
    "seaborn>=0.11.0\n",
    "plotly>=5.0.0\n",
    "jupyter>=1.0.0"
   ]
  }
 ],
 "metadata": {
  "kernelspec": {
   "display_name": "anaconda-panel-2023.05-py310",
   "language": "python",
   "name": "conda-env-anaconda-panel-2023.05-py310-py"
  },
  "language_info": {
   "codemirror_mode": {
    "name": "ipython",
    "version": 3
   },
   "file_extension": ".py",
   "mimetype": "text/x-python",
   "name": "python",
   "nbconvert_exporter": "python",
   "pygments_lexer": "ipython3",
   "version": "3.11.5"
  }
 },
 "nbformat": 4,
 "nbformat_minor": 5
}
